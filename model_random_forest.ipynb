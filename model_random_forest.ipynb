{
 "cells": [
  {
   "cell_type": "code",
   "execution_count": 16,
   "id": "95c321e8",
   "metadata": {},
   "outputs": [],
   "source": [
    "import pandas as pd\n",
    "import numpy as np\n",
    "from sklearn.metrics.pairwise import cosine_similarity\n",
    "import matplotlib.pyplot as plt\n",
    "\n",
    "from sklearn.tree import DecisionTreeRegressor\n",
    "from sklearn import tree"
   ]
  },
  {
   "cell_type": "code",
   "execution_count": 17,
   "id": "94af38a5-2843-4906-9247-fe7026e5746c",
   "metadata": {},
   "outputs": [],
   "source": [
    "heading_properties = [('font-size', '26px')]\n",
    "\n",
    "cell_properties = [('font-size', '20px')]\n",
    "\n",
    "dfstyle = [dict(selector=\"th\", props=heading_properties),\\\n",
    " dict(selector=\"td\", props=cell_properties)]"
   ]
  },
  {
   "cell_type": "code",
   "execution_count": 18,
   "id": "c9c46e8b",
   "metadata": {},
   "outputs": [],
   "source": [
    "food = [\n",
    "    {\n",
    "        'id': 1,\n",
    "        'name': \"Speisezwiebeln\",\n",
    "        'price': 0.10,\n",
    "        'shape': 'rund',\n",
    "        'kcal': 40,\n",
    "        'bio': False,\n",
    "        'train': True,\n",
    "        'zwiebel': True\n",
    "    },\n",
    "    {\n",
    "        'id': 2,\n",
    "        'name': \"Lauchzwiebeln\",\n",
    "        'price': 0.13,\n",
    "        'shape': 'stange',\n",
    "        'kcal': 32,\n",
    "        'bio': False,\n",
    "        'train': True,\n",
    "        'zwiebel': True\n",
    "    },\n",
    "    {\n",
    "        'id': 2,\n",
    "        'name': \"Bio-Lauchzwiebeln\",\n",
    "        'price': 0.15,\n",
    "        'shape': 'stange',\n",
    "        'kcal': 32,\n",
    "        'bio': True,\n",
    "        'train': False,\n",
    "        'zwiebel': True\n",
    "    },\n",
    "    {\n",
    "        'id': 11,\n",
    "        'name': \"Rote Zwiebeln\",\n",
    "        'price': 0.14,\n",
    "        'shape': 'rund',\n",
    "        'kcal': 32,\n",
    "        'bio': False,\n",
    "        'train': True,\n",
    "        'zwiebel': True\n",
    "    },\n",
    "    {\n",
    "        'id': 0,\n",
    "        'name': \"Bio Rote Zwiebeln\",\n",
    "        'price': 0.15,\n",
    "        'shape': 'rund',\n",
    "        'kcal': 36,\n",
    "        'bio': False,\n",
    "        'train': True,\n",
    "        'zwiebel': True\n",
    "    },\n",
    "    {\n",
    "        'id': 3,\n",
    "        'name': \"Chiquita Banane\",\n",
    "        'price': 0.2,\n",
    "        'shape': 'stange',\n",
    "        'kcal': 89,\n",
    "        'bio': False,\n",
    "        'train': False,\n",
    "        'zwiebel': False\n",
    "    },\n",
    "    {\n",
    "        'id': 4,\n",
    "        'name': \"Bio Banane\",\n",
    "        'price': 0.2,\n",
    "        'shape': 'stange',\n",
    "        'kcal': 89,\n",
    "        'bio': True,\n",
    "        'train': True,\n",
    "        'zwiebel': False\n",
    "    },\n",
    "    {\n",
    "        'id': 5,\n",
    "        'name': \"Bio Kartoffeln\",\n",
    "        'price': 0.17,\n",
    "        'shape': 'rund',\n",
    "        'kcal': 73,\n",
    "        'bio': True,\n",
    "        'train': True,\n",
    "        'zwiebel': False\n",
    "    },\n",
    "    {\n",
    "        'id': 6,\n",
    "        'name': \"Kohlrabi\",\n",
    "        'price': 0.15,\n",
    "        'shape': 'rund',\n",
    "        'kcal': 27,\n",
    "        'bio': False,\n",
    "        'train': True,\n",
    "        'zwiebel': False\n",
    "    },\n",
    "    {\n",
    "        'id': 7,\n",
    "        'name': \"Süßkartoffel\",\n",
    "        'price': 0.19,\n",
    "        'shape': 'rund',\n",
    "        'kcal': 86,\n",
    "        'bio': False,\n",
    "        'train': False,\n",
    "        'zwiebel': False\n",
    "    },\n",
    "    {\n",
    "        'id': 8,\n",
    "        'name': \"Karotten\",\n",
    "        'price': 0.11,\n",
    "        'shape': 'stange',\n",
    "        'kcal': 41,\n",
    "        'bio': False,\n",
    "        'train': False,\n",
    "        'zwiebel': False\n",
    "    },\n",
    "    {\n",
    "        'id': 9,\n",
    "        'name': \"Zucchini Grün\",\n",
    "        'price': 0.35,\n",
    "        'shape': 'stange',\n",
    "        'kcal': 17,\n",
    "        'bio': False,\n",
    "        'train': True,\n",
    "        'zwiebel': False\n",
    "    },\n",
    "    {\n",
    "        'id': 10,\n",
    "        'name': \"Tomate Rispe\",\n",
    "        'price': 0.23,\n",
    "        'shape': 'rund',\n",
    "        'kcal': 21,\n",
    "        'bio': False,\n",
    "        'train': True,\n",
    "        'zwiebel': False\n",
    "    },\n",
    "    {\n",
    "        'id': 12,\n",
    "        'name': \"Bio Rispentomaten\",\n",
    "        'price': 0.46,\n",
    "        'shape': 'rund',\n",
    "        'kcal': 21,\n",
    "        'bio': True,\n",
    "        'train': False,\n",
    "        'zwiebel': False\n",
    "    }\n",
    "]\n",
    "\n",
    "df = pd.DataFrame.from_dict(food)"
   ]
  },
  {
   "cell_type": "code",
   "execution_count": 19,
   "id": "d528a682",
   "metadata": {},
   "outputs": [],
   "source": [
    "feature_cols = ['price', 'kcal', 'bio' ]\n",
    "\n",
    "df_train = df[df['train'] == True]\n",
    "df_test = df[df['train'] == False]"
   ]
  },
  {
   "cell_type": "code",
   "execution_count": 20,
   "id": "a89375b4",
   "metadata": {},
   "outputs": [],
   "source": [
    "X = df_train.loc[:, feature_cols]\n",
    "y = df_train.loc[:, ['zwiebel']]"
   ]
  },
  {
   "cell_type": "code",
   "execution_count": 21,
   "id": "13af9fe3",
   "metadata": {},
   "outputs": [
    {
     "data": {
      "text/plain": [
       "DecisionTreeRegressor(max_depth=4)"
      ]
     },
     "execution_count": 21,
     "metadata": {},
     "output_type": "execute_result"
    }
   ],
   "source": [
    "#### Fit regression model\n",
    "clf = DecisionTreeRegressor(max_depth=4)\n",
    "clf.fit(X, y)"
   ]
  },
  {
   "cell_type": "code",
   "execution_count": 22,
   "id": "04de1ae8-5dc3-4bf2-86cf-4da5b3c020a4",
   "metadata": {},
   "outputs": [
    {
     "data": {
      "image/png": "[encoded data removed]",
      "text/plain": [
       "<Figure size 1440x720 with 1 Axes>"
      ]
     },
     "metadata": {
      "needs_background": "light"
     },
     "output_type": "display_data"
    }
   ],
   "source": [
    "# plot tree\n",
    "plt.figure(figsize=(20, 10))  # set plot size (denoted in inches)\n",
    "tree.plot_tree(clf,\n",
    "               fontsize=20,\n",
    "               feature_names = feature_cols,\n",
    "               filled = True);\n",
    "\n",
    "plt.show()"
   ]
  },
  {
   "cell_type": "code",
   "execution_count": 23,
   "id": "8d325bd7",
   "metadata": {},
   "outputs": [
    {
     "data": {
      "text/plain": [
       "<AxesSubplot:>"
      ]
     },
     "execution_count": 23,
     "metadata": {},
     "output_type": "execute_result"
    },
    {
     "data": {
      "image/png": "[encoded data removed]",
      "text/plain": [
       "<Figure size 432x288 with 1 Axes>"
      ]
     },
     "metadata": {
      "needs_background": "light"
     },
     "output_type": "display_data"
    }
   ],
   "source": [
    "importances = clf.feature_importances_\n",
    "f_import = list(zip(importances, feature_cols))\n",
    "\n",
    "(pd.Series(clf.feature_importances_, index=X.columns)\n",
    "   .nlargest(10)\n",
    "   .plot(kind='barh'))"
   ]
  },
  {
   "cell_type": "code",
   "execution_count": 24,
   "id": "4692366a",
   "metadata": {},
   "outputs": [],
   "source": [
    "X_test = df_test.loc[:, feature_cols]\n",
    "\n",
    "y_predict = clf.predict(X_test)\n",
    "df_2 = pd.DataFrame(data=y_predict)"
   ]
  },
  {
   "cell_type": "code",
   "execution_count": 25,
   "id": "efd8298a",
   "metadata": {},
   "outputs": [
    {
     "data": {
      "text/html": [
       "<style type=\"text/css\">\n",
       "#T_5fdaa_ th {\n",
       "  font-size: 26px;\n",
       "}\n",
       "#T_5fdaa_ td {\n",
       "  font-size: 20px;\n",
       "}\n",
       "</style>\n",
       "<table id=\"T_5fdaa_\">\n",
       "  <thead>\n",
       "    <tr>\n",
       "      <th class=\"blank level0\" >&nbsp;</th>\n",
       "      <th class=\"col_heading level0 col0\" >id</th>\n",
       "      <th class=\"col_heading level0 col1\" >name</th>\n",
       "      <th class=\"col_heading level0 col2\" >price</th>\n",
       "      <th class=\"col_heading level0 col3\" >shape</th>\n",
       "      <th class=\"col_heading level0 col4\" >kcal</th>\n",
       "      <th class=\"col_heading level0 col5\" >bio</th>\n",
       "      <th class=\"col_heading level0 col6\" >train</th>\n",
       "      <th class=\"col_heading level0 col7\" >zwiebel</th>\n",
       "    </tr>\n",
       "  </thead>\n",
       "  <tbody>\n",
       "    <tr>\n",
       "      <th id=\"T_5fdaa_level0_row0\" class=\"row_heading level0 row0\" >2</th>\n",
       "      <td id=\"T_5fdaa_row0_col0\" class=\"data row0 col0\" >2</td>\n",
       "      <td id=\"T_5fdaa_row0_col1\" class=\"data row0 col1\" >Bio-Lauchzwiebeln</td>\n",
       "      <td id=\"T_5fdaa_row0_col2\" class=\"data row0 col2\" >0.150000</td>\n",
       "      <td id=\"T_5fdaa_row0_col3\" class=\"data row0 col3\" >stange</td>\n",
       "      <td id=\"T_5fdaa_row0_col4\" class=\"data row0 col4\" >32</td>\n",
       "      <td id=\"T_5fdaa_row0_col5\" class=\"data row0 col5\" >True</td>\n",
       "      <td id=\"T_5fdaa_row0_col6\" class=\"data row0 col6\" >False</td>\n",
       "      <td id=\"T_5fdaa_row0_col7\" class=\"data row0 col7\" >True</td>\n",
       "    </tr>\n",
       "    <tr>\n",
       "      <th id=\"T_5fdaa_level0_row1\" class=\"row_heading level0 row1\" >5</th>\n",
       "      <td id=\"T_5fdaa_row1_col0\" class=\"data row1 col0\" >3</td>\n",
       "      <td id=\"T_5fdaa_row1_col1\" class=\"data row1 col1\" >Chiquita Banane</td>\n",
       "      <td id=\"T_5fdaa_row1_col2\" class=\"data row1 col2\" >0.200000</td>\n",
       "      <td id=\"T_5fdaa_row1_col3\" class=\"data row1 col3\" >stange</td>\n",
       "      <td id=\"T_5fdaa_row1_col4\" class=\"data row1 col4\" >89</td>\n",
       "      <td id=\"T_5fdaa_row1_col5\" class=\"data row1 col5\" >False</td>\n",
       "      <td id=\"T_5fdaa_row1_col6\" class=\"data row1 col6\" >False</td>\n",
       "      <td id=\"T_5fdaa_row1_col7\" class=\"data row1 col7\" >False</td>\n",
       "    </tr>\n",
       "    <tr>\n",
       "      <th id=\"T_5fdaa_level0_row2\" class=\"row_heading level0 row2\" >9</th>\n",
       "      <td id=\"T_5fdaa_row2_col0\" class=\"data row2 col0\" >7</td>\n",
       "      <td id=\"T_5fdaa_row2_col1\" class=\"data row2 col1\" >Süßkartoffel</td>\n",
       "      <td id=\"T_5fdaa_row2_col2\" class=\"data row2 col2\" >0.190000</td>\n",
       "      <td id=\"T_5fdaa_row2_col3\" class=\"data row2 col3\" >rund</td>\n",
       "      <td id=\"T_5fdaa_row2_col4\" class=\"data row2 col4\" >86</td>\n",
       "      <td id=\"T_5fdaa_row2_col5\" class=\"data row2 col5\" >False</td>\n",
       "      <td id=\"T_5fdaa_row2_col6\" class=\"data row2 col6\" >False</td>\n",
       "      <td id=\"T_5fdaa_row2_col7\" class=\"data row2 col7\" >False</td>\n",
       "    </tr>\n",
       "    <tr>\n",
       "      <th id=\"T_5fdaa_level0_row3\" class=\"row_heading level0 row3\" >10</th>\n",
       "      <td id=\"T_5fdaa_row3_col0\" class=\"data row3 col0\" >8</td>\n",
       "      <td id=\"T_5fdaa_row3_col1\" class=\"data row3 col1\" >Karotten</td>\n",
       "      <td id=\"T_5fdaa_row3_col2\" class=\"data row3 col2\" >0.110000</td>\n",
       "      <td id=\"T_5fdaa_row3_col3\" class=\"data row3 col3\" >stange</td>\n",
       "      <td id=\"T_5fdaa_row3_col4\" class=\"data row3 col4\" >41</td>\n",
       "      <td id=\"T_5fdaa_row3_col5\" class=\"data row3 col5\" >False</td>\n",
       "      <td id=\"T_5fdaa_row3_col6\" class=\"data row3 col6\" >False</td>\n",
       "      <td id=\"T_5fdaa_row3_col7\" class=\"data row3 col7\" >False</td>\n",
       "    </tr>\n",
       "    <tr>\n",
       "      <th id=\"T_5fdaa_level0_row4\" class=\"row_heading level0 row4\" >13</th>\n",
       "      <td id=\"T_5fdaa_row4_col0\" class=\"data row4 col0\" >12</td>\n",
       "      <td id=\"T_5fdaa_row4_col1\" class=\"data row4 col1\" >Bio Rispentomaten</td>\n",
       "      <td id=\"T_5fdaa_row4_col2\" class=\"data row4 col2\" >0.460000</td>\n",
       "      <td id=\"T_5fdaa_row4_col3\" class=\"data row4 col3\" >rund</td>\n",
       "      <td id=\"T_5fdaa_row4_col4\" class=\"data row4 col4\" >21</td>\n",
       "      <td id=\"T_5fdaa_row4_col5\" class=\"data row4 col5\" >True</td>\n",
       "      <td id=\"T_5fdaa_row4_col6\" class=\"data row4 col6\" >False</td>\n",
       "      <td id=\"T_5fdaa_row4_col7\" class=\"data row4 col7\" >False</td>\n",
       "    </tr>\n",
       "  </tbody>\n",
       "</table>\n"
      ],
      "text/plain": [
       "<pandas.io.formats.style.Styler at 0x7fad99172490>"
      ]
     },
     "execution_count": 25,
     "metadata": {},
     "output_type": "execute_result"
    }
   ],
   "source": [
    "df_test.reset_index().join(df_2)\n",
    "df_test.style.set_table_styles(dfstyle)"
   ]
  }
 ],
 "metadata": {
  "kernelspec": {
   "display_name": "Python 3 (ipykernel)",
   "language": "python",
   "name": "python3"
  },
  "language_info": {
   "codemirror_mode": {
    "name": "ipython",
    "version": 3
   },
   "file_extension": ".py",
   "mimetype": "text/x-python",
   "name": "python",
   "nbconvert_exporter": "python",
   "pygments_lexer": "ipython3",
   "version": "3.9.7"
  }
 },
 "nbformat": 4,
 "nbformat_minor": 5
}
