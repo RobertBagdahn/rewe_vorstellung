{
 "cells": [
  {
   "cell_type": "code",
   "execution_count": 38,
   "id": "55e9b932",
   "metadata": {},
   "outputs": [],
   "source": [
    "import numpy as np\n",
    "from sklearn.metrics.pairwise import cosine_similarity\n",
    "import matplotlib.pyplot as plt"
   ]
  },
  {
   "cell_type": "code",
   "execution_count": 39,
   "id": "6ca5b334",
   "metadata": {},
   "outputs": [],
   "source": [
    "receipt_list = [\n",
    "    ['Kartoffeln', 'trockener Knoblauchzehe', 'Schnittlauch'], # Katoffelgratain\n",
    "    ['Süßkartoffel', 'trockener Knoblauchzehe', 'Schnittlauch'], # Katoffelgratain\n",
    "    ['Frühlingszwiebeln', 'Tomate', 'Salatkopf'], # Nudelpfanne\n",
    "    ['Frühlingszwiebeln', 'Tomate', 'Rucola'], # Nudelpfanne\n",
    "    ['Rote Zwiebeln', 'Strauchtomaten'], # Nudelpfanne\n",
    "    ['Rote Zwiebeln', 'Fleisch-Tomate'], # Nudelpfanne\n",
    "    ['Salatkopf', 'Rispen-Tomate', 'Frühlingszwiebeln'], # Tomatensalat Variante 1\n",
    "    ['Salatkopf', 'Cocktail-Tomate', 'Frühlingszwiebeln'], # Tomatensalat Variante 2\n",
    "    ['Möhre', 'Petersilie'], # Vegane Carbonara\n",
    "    ['Möhre', 'Schnittlauch'], # Vegane Carbonara\n",
    "    ['Mini-Möhre', 'Petersilie'], # Normale Carbonara\n",
    "]"
   ]
  },
  {
   "cell_type": "code",
   "execution_count": 40,
   "id": "7caae60f",
   "metadata": {},
   "outputs": [],
   "source": [
    "# flatten the list\n",
    "receipts_flat_list = [item for sublist in receipt_list for item in sublist]"
   ]
  },
  {
   "cell_type": "code",
   "execution_count": 41,
   "id": "93253512",
   "metadata": {},
   "outputs": [
    {
     "data": {
      "text/plain": [
       "['Kartoffeln',\n",
       " 'trockener Knoblauchzehe',\n",
       " 'Schnittlauch',\n",
       " 'Süßkartoffel',\n",
       " 'Frühlingszwiebeln',\n",
       " 'Tomate',\n",
       " 'Salatkopf',\n",
       " 'Rucola',\n",
       " 'Rote Zwiebeln',\n",
       " 'Strauchtomaten',\n",
       " 'Fleisch-Tomate',\n",
       " 'Rispen-Tomate',\n",
       " 'Cocktail-Tomate',\n",
       " 'Möhre',\n",
       " 'Petersilie',\n",
       " 'Mini-Möhre']"
      ]
     },
     "execution_count": 41,
     "metadata": {},
     "output_type": "execute_result"
    }
   ],
   "source": [
    "receipts_flat_list_no_dups = list(dict.fromkeys(receipts_flat_list))\n",
    "receipts_flat_list_no_dups"
   ]
  },
  {
   "cell_type": "code",
   "execution_count": 42,
   "id": "f8ad47dc",
   "metadata": {},
   "outputs": [],
   "source": [
    "# create boolean mask\n",
    "receipt_list_bool = []\n",
    "for index, element in enumerate(receipt_list):\n",
    "    receipt_list_bool.append(np.in1d(receipts_flat_list_no_dups, receipt_list[index]))"
   ]
  },
  {
   "cell_type": "code",
   "execution_count": 43,
   "id": "f1c415c6",
   "metadata": {},
   "outputs": [],
   "source": [
    "cosine_similarity_matrix = cosine_similarity(receipt_list_bool)"
   ]
  },
  {
   "cell_type": "code",
   "execution_count": 44,
   "id": "7309f590",
   "metadata": {},
   "outputs": [
    {
     "data": {
      "image/png": "[encoded data removed]",
      "text/plain": [
       "<Figure size 1332x756 with 1 Axes>"
      ]
     },
     "metadata": {
      "needs_background": "light"
     },
     "output_type": "display_data"
    }
   ],
   "source": [
    "fig, ax = plt.subplots()\n",
    "\n",
    "ax.matshow(cosine_similarity_matrix, cmap=plt.cm.Blues)\n",
    "\n",
    "fig.set_size_inches(18.5, 10.5)\n",
    "\n",
    "for i in range(len(cosine_similarity_matrix)):\n",
    "    for j in range(len(cosine_similarity_matrix)):\n",
    "        c = cosine_similarity_matrix[j,i]\n",
    "        ax.text(i, j, str(round(c, 1)), va='center', ha='center')"
   ]
  },
  {
   "cell_type": "code",
   "execution_count": 45,
   "id": "3d07e189",
   "metadata": {},
   "outputs": [],
   "source": [
    "def give_first_receipt_by_item(list_of_items, item):\n",
    "    first_item_receipt =  [val for val in list_of_items if item in val][0]\n",
    "    return list_of_items.index(first_item_receipt)"
   ]
  },
  {
   "cell_type": "code",
   "execution_count": 46,
   "id": "c93776cb",
   "metadata": {},
   "outputs": [],
   "source": [
    "def get_closest_no_matching_receipt(receipt_list, index_item_receipt, item, cosine_similarity_matrix):\n",
    "    recipe_order = np.delete(np.flip(np.argsort(cosine_similarity_matrix[index_item_receipt])), 0)\n",
    "    for index in recipe_order:\n",
    "        if item not in receipt_list[index]:\n",
    "            return index\n",
    "    return -1"
   ]
  },
  {
   "cell_type": "code",
   "execution_count": 47,
   "id": "40ebf3af",
   "metadata": {},
   "outputs": [],
   "source": [
    "def get_intersection(index_item_receipt, index_closest_receipt):\n",
    "    l1 = receipt_list[index_closest_receipt]\n",
    "    l2 = receipt_list[index_item_receipt]\n",
    "    intesection = [x for x in l1 if x not in l2]\n",
    "    return intesection"
   ]
  },
  {
   "cell_type": "code",
   "execution_count": 48,
   "id": "c8823b1c",
   "metadata": {},
   "outputs": [
    {
     "name": "stdout",
     "output_type": "stream",
     "text": [
      "Element: Kartoffeln\n",
      "Rezept mit Element: ['Kartoffeln', 'trockener Knoblauchzehe', 'Schnittlauch']\n",
      "---\n",
      "Ähnliches: ['Süßkartoffel', 'trockener Knoblauchzehe', 'Schnittlauch']\n",
      "---\n",
      "Kartoffeln -> ['Süßkartoffel']\n"
     ]
    }
   ],
   "source": [
    "for index, example_item in enumerate(receipts_flat_list_no_dups):\n",
    "    index_item_receipt = give_first_receipt_by_item(receipt_list, example_item)\n",
    "    if index == 0:\n",
    "        print(f'Element: {example_item}')\n",
    "        print(f'Rezept mit Element: {receipt_list[index_item_receipt]}')\n",
    "        print('---')\n",
    "    index_closest_receipt = get_closest_no_matching_receipt(receipt_list, index_item_receipt, example_item, cosine_similarity_matrix)\n",
    "    if index == 0:\n",
    "        print(f'Ähnliches: {receipt_list[index_closest_receipt]}')\n",
    "        print('---')\n",
    "    replace_item = get_intersection(index_item_receipt, index_closest_receipt)\n",
    "    if index == 0:\n",
    "        print(f'{example_item} -> {replace_item}')"
   ]
  },
  {
   "cell_type": "code",
   "execution_count": null,
   "id": "a865596a-21e1-489f-94b7-7664eba579f1",
   "metadata": {},
   "outputs": [],
   "source": []
  }
 ],
 "metadata": {
  "kernelspec": {
   "display_name": "Python 3 (ipykernel)",
   "language": "python",
   "name": "python3"
  },
  "language_info": {
   "codemirror_mode": {
    "name": "ipython",
    "version": 3
   },
   "file_extension": ".py",
   "mimetype": "text/x-python",
   "name": "python",
   "nbconvert_exporter": "python",
   "pygments_lexer": "ipython3",
   "version": "3.9.7"
  }
 },
 "nbformat": 4,
 "nbformat_minor": 5
}
